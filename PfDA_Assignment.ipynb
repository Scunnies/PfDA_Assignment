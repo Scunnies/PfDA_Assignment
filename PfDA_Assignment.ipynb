{
 "cells": [
  {
   "cell_type": "markdown",
   "id": "f916390b",
   "metadata": {},
   "source": [
    "# Programming for Data Analysis"
   ]
  },
  {
   "cell_type": "markdown",
   "id": "925aa9be",
   "metadata": {},
   "source": [
    "# Programming for Data Analysis Assignment 2022\n",
    "\n",
    "***\n",
    "\n",
    "### Eleanor Sammon, Student # G00411277\n",
    "\n",
    "\n",
    "## Table of Contents\n",
    "\n",
    "1. [Introduction](#introduction)\n",
    "2. [Synthetic Data](#synthetic_data)\n",
    "3. [Variables](#variables)\n",
    "4. [Coding the Dataset](#dataset)\n",
    "5. [Testing the Dataset](#testing)\n",
    "6. [Conclusion](#conclusion)\n",
    "8. [References](#references)\n"
   ]
  },
  {
   "cell_type": "markdown",
   "id": "8463f0be",
   "metadata": {},
   "source": [
    "## 1. Introduction\n",
    "\n",
    "The purpose of this project is to synthesise a dataset using data points from a real life phenomenon. \n",
    "\n",
    "Having first outlined the pros and cons of synthetic data, I will then synthesise my own data-set which will model (the relationship, if any between age, sex, social class, education and the tendancy towards cigarette smoking). I will outline each of the variables, code a synthetic set of data points for each variable based on real data and perform analysis on the resulting composite data set. \n"
   ]
  },
  {
   "cell_type": "markdown",
   "id": "16f276dc",
   "metadata": {},
   "source": [
    "## 2. Synthetic Data\n",
    "\n",
    "Synthetic data is artificially generated data that models real data.  The main advantages of synthetic data are:\n",
    "\n",
    "**It is easy to generate and use**  Collecting and collating real-world data can be time consuming and raise privacy and data protection issues. Synthetic data is cleaner and doesn’t have the inaccuracies, duplicates or formatting niggles that often come with real data.\n",
    "\n",
    "**Its of superior quality**  Real-world data can be time-consuming to collect and collate, it may be missing values, contain inaccuracies or be biased.  Synthetic data is cheaper, faster, has more accurate patterns, is balanced, unbiased, and high quality.\n",
    "\n",
    "**It scales well**  Successfully training a predictive model works best with large scale inputs.\n",
    "\n",
    "**It has no security, moral or regulatory conflicts** Even where real-world data exists in sufficient quantities it can often be ring-fenced because of compliance issues. General Data Protection Regulation (GDPR) forbids uses of data that weren't explicitly consented to at the time of collection. \n",
    "\n",
    "Disadvantages of synthetic data include:\n",
    "\n",
    "**Bias** The quality of the synthesised output correlates directly to the quality of the input and where there is bias in the input it will be reflected and potentially amplified in the synthesised data with potential for false insights and poor decision-making. \n",
    "\n",
    "**Ignoring outliers** Synthetic data approximates real-world data, it can never really replicate it entirely and therefore outliers which maybe appear in real-world, organic data could be ignored or overlooked in a synthesised data set.  Such outliers can be significant in themselves.\n",
    "\n",
    "**Improper use and application** Even synthetic data has to be founded in fact and there are concerns that the underlying real data, which could be sensitive, may still be identifiable to its source.  A synthesised dataset must be carefully aligned to the original problem to ensure it's fulfilling its purpose. "
   ]
  },
  {
   "cell_type": "markdown",
   "id": "7b4df35b",
   "metadata": {},
   "source": [
    "## 3. Variables\n",
    "\n",
    "I know someone recently diagnosed with stage 4 lung cancer so I decided to synthesise a data set looking at whether certain societal factors might influence whether a person is more likely to be a smoker. My four variables are age, sex, socio-economic status and education. "
   ]
  },
  {
   "cell_type": "markdown",
   "id": "72cc517a",
   "metadata": {},
   "source": [
    "### 3.1 Age\n",
    "\n"
   ]
  },
  {
   "cell_type": "code",
   "execution_count": 1,
   "id": "ab4f98b3",
   "metadata": {},
   "outputs": [],
   "source": [
    "import numpy as np\n",
    "import pandas as pd \n",
    "import seaborn as sns\n",
    "from scipy.stats import norm\n",
    "import matplotlib.pyplot as plt\n",
    "\n",
    "## generate a random array of 1000 ages between 15 and 99\n"
   ]
  },
  {
   "cell_type": "markdown",
   "id": "7a6928da",
   "metadata": {},
   "source": [
    "## 3.2 Gender\n",
    "According to the [World Bank](https://data.worldbank.org/indicator/SP.POP.TOTL.FE.ZS?locations=IE), in 2021 the female and male ratio in Ireland reached almost parity (50.3% female as against 49.7% male) largely owing to migration in recent years. "
   ]
  },
  {
   "cell_type": "code",
   "execution_count": 2,
   "id": "313803a8",
   "metadata": {},
   "outputs": [
    {
     "data": {
      "text/plain": [
       "array(['Female', 'Female', 'Male', 'Male', 'Male', 'Female', 'Male',\n",
       "       'Male', 'Female', 'Female', 'Male', 'Female', 'Male', 'Female',\n",
       "       'Male', 'Female', 'Male', 'Male', 'Female', 'Female', 'Male',\n",
       "       'Male', 'Female', 'Male', 'Male', 'Male', 'Male', 'Male', 'Male',\n",
       "       'Female', 'Male', 'Male', 'Female', 'Female', 'Male', 'Female',\n",
       "       'Male', 'Male', 'Male', 'Male', 'Female', 'Female', 'Male', 'Male',\n",
       "       'Male', 'Female', 'Female', 'Male', 'Female', 'Male', 'Female',\n",
       "       'Male', 'Male', 'Male', 'Male', 'Female', 'Female', 'Male', 'Male',\n",
       "       'Male', 'Male', 'Female', 'Male', 'Male', 'Male', 'Female',\n",
       "       'Female', 'Female', 'Male', 'Female', 'Female', 'Female', 'Male',\n",
       "       'Male', 'Female', 'Male', 'Male', 'Female', 'Female', 'Female',\n",
       "       'Male', 'Male', 'Male', 'Female', 'Female', 'Female', 'Male',\n",
       "       'Male', 'Male', 'Male', 'Female', 'Female', 'Female', 'Female',\n",
       "       'Male', 'Female', 'Male', 'Female', 'Female', 'Male', 'Female',\n",
       "       'Female', 'Male', 'Male', 'Female', 'Female', 'Female', 'Female',\n",
       "       'Female', 'Female', 'Male', 'Male', 'Male', 'Male', 'Male', 'Male',\n",
       "       'Female', 'Female', 'Female', 'Male', 'Male', 'Male', 'Female',\n",
       "       'Female', 'Female', 'Male', 'Female', 'Male', 'Female', 'Male',\n",
       "       'Male', 'Female', 'Female', 'Male', 'Male', 'Male', 'Male', 'Male',\n",
       "       'Female', 'Male', 'Female', 'Male', 'Male', 'Female', 'Male',\n",
       "       'Male', 'Female', 'Female', 'Male', 'Female', 'Female', 'Female',\n",
       "       'Female', 'Male', 'Male', 'Female', 'Male', 'Female', 'Female',\n",
       "       'Male', 'Male', 'Male', 'Male', 'Male', 'Male', 'Female', 'Female',\n",
       "       'Female', 'Female', 'Male', 'Female', 'Male', 'Female', 'Male',\n",
       "       'Male', 'Female', 'Male', 'Male', 'Male', 'Male', 'Male', 'Female',\n",
       "       'Female', 'Female', 'Female', 'Female', 'Female', 'Female', 'Male',\n",
       "       'Female', 'Male', 'Male', 'Male', 'Male', 'Male', 'Female',\n",
       "       'Female', 'Male', 'Male', 'Female', 'Male', 'Male', 'Male',\n",
       "       'Female', 'Female', 'Female', 'Male', 'Female', 'Male', 'Male',\n",
       "       'Female', 'Female', 'Female', 'Female', 'Male', 'Male', 'Female',\n",
       "       'Male', 'Female', 'Male', 'Female', 'Male', 'Male', 'Male',\n",
       "       'Female', 'Male', 'Female', 'Male', 'Male', 'Female', 'Female',\n",
       "       'Male', 'Male', 'Male', 'Female', 'Female', 'Female', 'Female',\n",
       "       'Male', 'Male', 'Male', 'Female', 'Female', 'Female', 'Female',\n",
       "       'Male', 'Female', 'Male', 'Female', 'Female', 'Female', 'Male',\n",
       "       'Female', 'Male', 'Male', 'Female', 'Female', 'Female', 'Female',\n",
       "       'Male', 'Female', 'Female', 'Female', 'Male', 'Male', 'Male',\n",
       "       'Male', 'Female', 'Male', 'Female', 'Male', 'Female', 'Female',\n",
       "       'Female', 'Male', 'Male', 'Female', 'Female', 'Male', 'Female',\n",
       "       'Female', 'Male', 'Female', 'Female', 'Male', 'Male', 'Female',\n",
       "       'Female', 'Male', 'Female', 'Male', 'Female', 'Male', 'Female',\n",
       "       'Male', 'Male', 'Male', 'Female', 'Male', 'Female', 'Male',\n",
       "       'Female', 'Female', 'Female', 'Male', 'Female', 'Male', 'Female',\n",
       "       'Female', 'Female', 'Male', 'Male', 'Male', 'Female', 'Male',\n",
       "       'Female', 'Male', 'Male', 'Male', 'Female', 'Female', 'Male',\n",
       "       'Female', 'Female', 'Male', 'Female', 'Male', 'Male', 'Male',\n",
       "       'Female', 'Male', 'Male', 'Male', 'Male', 'Male', 'Female',\n",
       "       'Female', 'Male', 'Female', 'Male', 'Female', 'Male', 'Male',\n",
       "       'Female', 'Female', 'Male', 'Female', 'Female', 'Male', 'Female',\n",
       "       'Male', 'Female', 'Female', 'Male', 'Female', 'Male', 'Male',\n",
       "       'Male', 'Female', 'Female', 'Male', 'Male', 'Female', 'Male',\n",
       "       'Male', 'Female', 'Female', 'Male', 'Male', 'Female', 'Female',\n",
       "       'Male', 'Female', 'Male', 'Male', 'Male', 'Male', 'Female',\n",
       "       'Female', 'Male', 'Female', 'Female', 'Female', 'Female', 'Male',\n",
       "       'Male', 'Female', 'Male', 'Male', 'Female', 'Male', 'Female',\n",
       "       'Male', 'Female', 'Male', 'Male', 'Female', 'Female', 'Female',\n",
       "       'Male', 'Male', 'Female', 'Female', 'Male', 'Female', 'Male',\n",
       "       'Female', 'Female', 'Female', 'Male', 'Female', 'Female', 'Male',\n",
       "       'Male', 'Male', 'Female', 'Female', 'Male', 'Male', 'Female',\n",
       "       'Male', 'Female', 'Male', 'Female', 'Male', 'Female', 'Female',\n",
       "       'Female', 'Female', 'Female', 'Male', 'Female', 'Male', 'Female',\n",
       "       'Female', 'Male', 'Male', 'Female', 'Male', 'Female', 'Female',\n",
       "       'Female', 'Female', 'Male', 'Male', 'Male', 'Female', 'Female',\n",
       "       'Male', 'Female', 'Female', 'Female', 'Male', 'Female', 'Male',\n",
       "       'Female', 'Female', 'Male', 'Male', 'Male', 'Female', 'Male',\n",
       "       'Male', 'Female', 'Male', 'Female', 'Male', 'Female', 'Male',\n",
       "       'Female', 'Male', 'Female', 'Male', 'Female', 'Female', 'Male',\n",
       "       'Male', 'Female', 'Female', 'Female', 'Male', 'Female', 'Female',\n",
       "       'Male', 'Female', 'Female', 'Male', 'Male', 'Female', 'Male',\n",
       "       'Female', 'Female', 'Female', 'Male', 'Female', 'Male', 'Female',\n",
       "       'Male', 'Male', 'Female', 'Female', 'Male', 'Female', 'Male',\n",
       "       'Male', 'Female', 'Male', 'Female', 'Male', 'Female', 'Male',\n",
       "       'Female', 'Female', 'Male', 'Female', 'Male', 'Male', 'Female',\n",
       "       'Male', 'Male', 'Female', 'Female', 'Male', 'Female', 'Female',\n",
       "       'Male', 'Female', 'Female', 'Male', 'Female', 'Male', 'Male',\n",
       "       'Female', 'Male', 'Male', 'Male', 'Male', 'Female', 'Female',\n",
       "       'Male', 'Male', 'Male', 'Male', 'Female', 'Male', 'Male', 'Male',\n",
       "       'Male', 'Female', 'Male', 'Female', 'Female', 'Female', 'Female',\n",
       "       'Male', 'Female', 'Female', 'Female', 'Female', 'Female', 'Male',\n",
       "       'Male', 'Male', 'Male', 'Female', 'Male', 'Male', 'Female',\n",
       "       'Female', 'Male', 'Female', 'Male', 'Female', 'Female', 'Male',\n",
       "       'Female', 'Male', 'Female', 'Male', 'Female', 'Male', 'Male',\n",
       "       'Male', 'Male', 'Female', 'Male', 'Female', 'Male', 'Male',\n",
       "       'Female', 'Female', 'Male', 'Male', 'Female', 'Female', 'Male',\n",
       "       'Female', 'Male', 'Female', 'Female', 'Male', 'Male', 'Female',\n",
       "       'Male', 'Male', 'Female', 'Male', 'Female', 'Female', 'Female',\n",
       "       'Female', 'Male', 'Male', 'Female', 'Female', 'Female', 'Female',\n",
       "       'Male', 'Male', 'Female', 'Female', 'Male', 'Male', 'Male', 'Male',\n",
       "       'Male', 'Male', 'Male', 'Male', 'Male', 'Male', 'Male', 'Female',\n",
       "       'Male', 'Female', 'Female', 'Female', 'Female', 'Female', 'Female',\n",
       "       'Male', 'Male', 'Female', 'Male', 'Female', 'Male', 'Female',\n",
       "       'Female', 'Female', 'Female', 'Female', 'Female', 'Female',\n",
       "       'Female', 'Male', 'Female', 'Female', 'Male', 'Female', 'Female',\n",
       "       'Male', 'Male', 'Male', 'Male', 'Female', 'Male', 'Female',\n",
       "       'Female', 'Male', 'Male', 'Male', 'Female', 'Male', 'Female',\n",
       "       'Male', 'Female', 'Male', 'Male', 'Male', 'Female', 'Male', 'Male',\n",
       "       'Female', 'Female', 'Male', 'Male', 'Male', 'Female', 'Male',\n",
       "       'Male', 'Male', 'Male', 'Female', 'Female', 'Male', 'Female',\n",
       "       'Female', 'Male', 'Male', 'Male', 'Male', 'Female', 'Female',\n",
       "       'Male', 'Female', 'Male', 'Male', 'Female', 'Female', 'Male',\n",
       "       'Female', 'Female', 'Female', 'Female', 'Female', 'Male', 'Male',\n",
       "       'Male', 'Female', 'Female', 'Female', 'Male', 'Female', 'Male',\n",
       "       'Male', 'Male', 'Male', 'Male', 'Female', 'Female', 'Female',\n",
       "       'Female', 'Male', 'Male', 'Female', 'Female', 'Male', 'Female',\n",
       "       'Male', 'Male', 'Female', 'Male', 'Female', 'Female', 'Female',\n",
       "       'Male', 'Male', 'Male', 'Male', 'Female', 'Male', 'Male', 'Female',\n",
       "       'Female', 'Male', 'Male', 'Male', 'Male', 'Female', 'Female',\n",
       "       'Male', 'Male', 'Female', 'Male', 'Male', 'Female', 'Female',\n",
       "       'Male', 'Male', 'Female', 'Male', 'Male', 'Male', 'Male', 'Male',\n",
       "       'Female', 'Male', 'Male', 'Female', 'Female', 'Female', 'Male',\n",
       "       'Male', 'Female', 'Male', 'Female', 'Female', 'Male', 'Female',\n",
       "       'Female', 'Male', 'Female', 'Female', 'Male', 'Male', 'Female',\n",
       "       'Male', 'Female', 'Female', 'Female', 'Male', 'Female', 'Male',\n",
       "       'Female', 'Female', 'Female', 'Female', 'Male', 'Male', 'Male',\n",
       "       'Male', 'Male', 'Male', 'Female', 'Male', 'Male', 'Male', 'Female',\n",
       "       'Male', 'Male', 'Female', 'Male', 'Female', 'Female', 'Female',\n",
       "       'Male', 'Female', 'Male', 'Female', 'Female', 'Male', 'Female',\n",
       "       'Male', 'Female', 'Female', 'Male', 'Female', 'Male', 'Male',\n",
       "       'Male', 'Male', 'Female', 'Female', 'Male', 'Female', 'Female',\n",
       "       'Female', 'Male', 'Female', 'Male', 'Male', 'Male', 'Female',\n",
       "       'Female', 'Female', 'Female', 'Male', 'Male', 'Female', 'Male',\n",
       "       'Male', 'Male', 'Male', 'Female', 'Male', 'Female', 'Female',\n",
       "       'Male', 'Female', 'Female', 'Female', 'Female', 'Female', 'Female',\n",
       "       'Male', 'Male', 'Male', 'Female', 'Female', 'Female', 'Male',\n",
       "       'Female', 'Male', 'Male', 'Male', 'Male', 'Female', 'Male', 'Male',\n",
       "       'Male', 'Female', 'Male', 'Male', 'Male', 'Female', 'Female',\n",
       "       'Male', 'Female', 'Male', 'Male', 'Male', 'Female', 'Male',\n",
       "       'Female', 'Male', 'Female', 'Female', 'Female', 'Male', 'Male',\n",
       "       'Male', 'Female', 'Male', 'Female', 'Female', 'Male', 'Female',\n",
       "       'Female', 'Female', 'Female', 'Female', 'Male', 'Male', 'Female',\n",
       "       'Male', 'Male', 'Male', 'Male', 'Male', 'Male', 'Male', 'Female',\n",
       "       'Female', 'Male', 'Female', 'Female', 'Male', 'Male', 'Female',\n",
       "       'Male', 'Male', 'Male', 'Female', 'Female', 'Male', 'Male', 'Male',\n",
       "       'Male', 'Female', 'Female', 'Female', 'Male', 'Male', 'Female',\n",
       "       'Male', 'Male', 'Female', 'Female', 'Male', 'Male', 'Male', 'Male',\n",
       "       'Female', 'Male', 'Female', 'Female', 'Male', 'Female', 'Male',\n",
       "       'Female', 'Female', 'Female', 'Male', 'Female', 'Female', 'Male',\n",
       "       'Male', 'Female', 'Female', 'Male', 'Female', 'Male', 'Female',\n",
       "       'Female', 'Female', 'Male', 'Female', 'Female', 'Male', 'Male',\n",
       "       'Female', 'Male', 'Male', 'Male', 'Male', 'Male', 'Female', 'Male',\n",
       "       'Female', 'Male'], dtype='<U6')"
      ]
     },
     "execution_count": 2,
     "metadata": {},
     "output_type": "execute_result"
    }
   ],
   "source": [
    "genders = ['Male', 'Female'] \n",
    "np.random.choice(genders, 1000, p=[0.497, 0.503])"
   ]
  },
  {
   "cell_type": "markdown",
   "id": "8aab88fc",
   "metadata": {},
   "source": [
    "## 3.3 Socio Economic Status\n"
   ]
  },
  {
   "cell_type": "markdown",
   "id": "8329f424",
   "metadata": {},
   "source": [
    "## 3.4 Education\n"
   ]
  },
  {
   "cell_type": "code",
   "execution_count": null,
   "id": "4201bab0",
   "metadata": {},
   "outputs": [],
   "source": []
  },
  {
   "cell_type": "markdown",
   "id": "f04dcb4b",
   "metadata": {},
   "source": [
    "## References\n",
    "\n",
    "https://datagen.tech/guides/synthetic-data/synthetic-data/ - visited on 07/11/2022\n",
    "\n",
    "video : https://www.youtube.com/watch?v=uG_YMEcyaA8 – watched 07/11/2022\n",
    "\n",
    "Advantages and disadvantages of synthetic data - https://www.dataversity.net/the-pros-and-cons-of-synthetic-data/ - visited 09/11/2022"
   ]
  },
  {
   "cell_type": "code",
   "execution_count": null,
   "id": "11a5d438",
   "metadata": {},
   "outputs": [],
   "source": []
  },
  {
   "cell_type": "code",
   "execution_count": null,
   "id": "efd723c7",
   "metadata": {},
   "outputs": [],
   "source": []
  }
 ],
 "metadata": {
  "kernelspec": {
   "display_name": "Python 3 (ipykernel)",
   "language": "python",
   "name": "python3"
  },
  "language_info": {
   "codemirror_mode": {
    "name": "ipython",
    "version": 3
   },
   "file_extension": ".py",
   "mimetype": "text/x-python",
   "name": "python",
   "nbconvert_exporter": "python",
   "pygments_lexer": "ipython3",
   "version": "3.9.12"
  }
 },
 "nbformat": 4,
 "nbformat_minor": 5
}
