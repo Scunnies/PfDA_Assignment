{
 "cells": [
  {
   "cell_type": "markdown",
   "id": "f916390b",
   "metadata": {},
   "source": [
    "# Programming for Data Analysis"
   ]
  },
  {
   "cell_type": "markdown",
   "id": "925aa9be",
   "metadata": {},
   "source": [
    "# Programming for Data Analysis Assignment 2022\n",
    "\n",
    "***\n",
    "\n",
    "### Eleanor Sammon, Student # G00411277\n",
    "\n",
    "\n",
    "## Table of Contents\n",
    "\n",
    "1. [Introduction](#introduction)\n",
    "2. [Synthetic Data](#synthetic_data)\n",
    "3. [Variables](#variables)\n",
    "4. [Coding the Dataset](#dataset)\n",
    "5. [Testing the Dataset](#testing)\n",
    "6. [Conclusion](#conclusion)\n",
    "8. [References](#references)\n",
    "\n",
    " \n",
    "## Introduction\n",
    "\n",
    "Synthetic data is artificially generated data that models real data.  The main advantages of synthetic data are:\n",
    "\n",
    "**It is easy to generate and use**  Collecting and collating real-world data can be time consuming and raise privacy and data protection issues. Synthetic data is cleaner and doesn’t have the inaccuracies, duplicates or formatting niggles that often come with real data.\n",
    "\n",
    "**Its of superior quality**  Real-world data can be time-consuming to collect and collate, it may be missing values, contain inaccuracies or be biased.  Synthetic data is cheaper, faster, has more accurate patterns, is balanced, unbiased, and high quality.\n",
    "\n",
    "**It scales well**  Successfully training a predictive model works best with large scale inputs.\n",
    "\n",
    "**It has no security, moral or regulatory conflicts** Even where real-world data exists in sufficient quantities it can often be ring-fenced because of compliance issues. General Data Protection Regulation (GDPR) forbids uses of data that weren't explicitly consented to at the time of collection. \n",
    "\n",
    "Disadvantages of synthetic data include:\n",
    "\n",
    "Bias\n",
    "\n",
    "Ignoring outliers\n",
    "\n",
    "Improper use and application\n",
    "\n",
    " \n",
    "\n"
   ]
  },
  {
   "cell_type": "code",
   "execution_count": null,
   "id": "2e95d4e0",
   "metadata": {},
   "outputs": [],
   "source": []
  },
  {
   "cell_type": "code",
   "execution_count": null,
   "id": "851ed1ed",
   "metadata": {},
   "outputs": [],
   "source": []
  },
  {
   "cell_type": "markdown",
   "id": "f04dcb4b",
   "metadata": {},
   "source": [
    "## References\n",
    "\n",
    "https://datagen.tech/guides/synthetic-data/synthetic-data/ - visited on 07/11/2022\n",
    "\n",
    "video : https://www.youtube.com/watch?v=uG_YMEcyaA8 – watched 07/11/2022\n",
    "\n",
    "Advantages and disadvantages of synthetic data - https://www.dataversity.net/the-pros-and-cons-of-synthetic-data/ - visited 09/11/2022"
   ]
  },
  {
   "cell_type": "code",
   "execution_count": null,
   "id": "11a5d438",
   "metadata": {},
   "outputs": [],
   "source": []
  }
 ],
 "metadata": {
  "kernelspec": {
   "display_name": "Python 3 (ipykernel)",
   "language": "python",
   "name": "python3"
  },
  "language_info": {
   "codemirror_mode": {
    "name": "ipython",
    "version": 3
   },
   "file_extension": ".py",
   "mimetype": "text/x-python",
   "name": "python",
   "nbconvert_exporter": "python",
   "pygments_lexer": "ipython3",
   "version": "3.9.12"
  }
 },
 "nbformat": 4,
 "nbformat_minor": 5
}
